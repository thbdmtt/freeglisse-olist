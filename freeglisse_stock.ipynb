{
 "cells": [
  {
   "cell_type": "markdown",
   "metadata": {},
   "source": [
    "# Freeglisse Stock Scrapping"
   ]
  },
  {
   "cell_type": "markdown",
   "metadata": {},
   "source": [
    "## Setup and Configuration"
   ]
  },
  {
   "cell_type": "code",
   "execution_count": 1,
   "metadata": {},
   "outputs": [],
   "source": [
    "from selenium import webdriver\n",
    "from selenium.webdriver.common.by import By\n",
    "from selenium.webdriver.support.ui import WebDriverWait\n",
    "from selenium.webdriver.support import expected_conditions as EC\n",
    "from selenium.common.exceptions import NoSuchElementException\n",
    "from selenium.common.exceptions import NoSuchElementException, TimeoutException\n",
    "from selenium.common.exceptions import StaleElementReferenceException, NoSuchElementException\n",
    "import os\n",
    "import time\n",
    "import requests\n",
    "from bs4 import BeautifulSoup\n",
    "import pandas as pd"
   ]
  },
  {
   "cell_type": "markdown",
   "metadata": {},
   "source": [
    "## Data Collection Process"
   ]
  },
  {
   "cell_type": "markdown",
   "metadata": {},
   "source": [
    "### Test link response"
   ]
  },
  {
   "cell_type": "code",
   "execution_count": 3,
   "metadata": {},
   "outputs": [
    {
     "name": "stdout",
     "output_type": "stream",
     "text": [
      "200\n"
     ]
    }
   ],
   "source": [
    "r = requests.get(\"https://freeglisse.com/fr/12-ski-occasion?page=1\")\n",
    "print(r.status_code)"
   ]
  },
  {
   "cell_type": "markdown",
   "metadata": {},
   "source": [
    "### Function to get all URLs products"
   ]
  },
  {
   "cell_type": "code",
   "execution_count": 33,
   "metadata": {},
   "outputs": [],
   "source": [
    "def scrape_product_links(base_url):\n",
    "    all_links = []\n",
    "    page_num = 1\n",
    "    while True:\n",
    "        page_url = f\"{base_url}?page={page_num}\"  # Change the URL scheme according to your site\n",
    "\n",
    "        # Get the HTML content of the page\n",
    "        response = requests.get(page_url)\n",
    "        if response.status_code == 200:\n",
    "            soup = BeautifulSoup(response.content, 'html.parser')\n",
    "\n",
    "            # Find all h2 tags with class \"h3 product-title\"\n",
    "            product_titles = soup.find_all('h2', class_='h3 product-title')\n",
    "\n",
    "            # If no tags are found, it means we have reached the end of the pages\n",
    "            if not product_titles:\n",
    "                break\n",
    "\n",
    "            # Extract links from these tags and add them to the list of all links\n",
    "            for title in tqdm(product_titles, desc=\"scrape_product_links\", unit='title'):\n",
    "                link = title.find('a')['href']\n",
    "                all_links.append(link)\n",
    "\n",
    "            # Go to the next page\n",
    "            page_num += 1\n",
    "        else:\n",
    "            # Stop the loop if an error occurs during the query\n",
    "            print(f\"Failed to retrieve page {page_num}. Status code: {response.status_code}\")\n",
    "            break\n",
    "\n",
    "    return all_links"
   ]
  },
  {
   "cell_type": "code",
   "execution_count": null,
   "metadata": {},
   "outputs": [],
   "source": [
    "base_url = 'https://freeglisse.com/fr/12-ski-occasion'  \n",
    "product_links = scrape_product_links(base_url)\n",
    "product_links\n",
    "\n",
    "#Show all retrieved links\n",
    "for link in tqdm(product_links):\n",
    "    print(link)"
   ]
  },
  {
   "cell_type": "markdown",
   "metadata": {},
   "source": [
    "### Function to get all links on a single page"
   ]
  },
  {
   "cell_type": "code",
   "execution_count": 4,
   "metadata": {},
   "outputs": [],
   "source": [
    "def scrape_product_link(base_url):\n",
    "    all_link = []\n",
    "\n",
    "    # Get the HTML content of the page\n",
    "    response = requests.get(base_url)\n",
    "    if response.status_code == 200:\n",
    "        soup = BeautifulSoup(response.content, 'html.parser')\n",
    "\n",
    "        # Find all h2 tags with class \"h3 product-title\"\n",
    "        product_titles = soup.find_all('h2', class_='h3 product-title')\n",
    "\n",
    "        # Extract links from these tags and add them to the list of all links\n",
    "        for title in product_titles:\n",
    "            link = title.find('a')['href']\n",
    "            all_link.append(link)\n",
    "\n",
    "    return all_link"
   ]
  },
  {
   "cell_type": "code",
   "execution_count": null,
   "metadata": {},
   "outputs": [],
   "source": [
    "base_url = 'https://freeglisse.com/fr/12-ski-occasion?page=8' \n",
    "product_link = scrape_product_link(base_url)\n",
    "product_link"
   ]
  },
  {
   "cell_type": "markdown",
   "metadata": {},
   "source": [
    "### Function to extract all datas we need of a single page"
   ]
  },
  {
   "cell_type": "code",
   "execution_count": 15,
   "metadata": {},
   "outputs": [],
   "source": [
    "def products(url, quality_xpath, base_xpath, button_xpath, availability_xpath):\n",
    "\n",
    "    driver = webdriver.Chrome() # setting up the Webdriver\n",
    "\n",
    "    all_products_availability = {}\n",
    "\n",
    "    try:\n",
    "        driver.get(url)\n",
    "\n",
    "        # Wait for quality items to load\n",
    "        qualities = WebDriverWait(driver, 10).until(EC.presence_of_all_elements_located((By.XPATH, f\"{quality_xpath}/li\")))\n",
    "        \n",
    "        for quality_index in range(1, len(qualities) + 1):\n",
    "\n",
    "            # Select quality\n",
    "            quality_li_xpath = f\"{quality_xpath}/li[{quality_index}]\" # fetches the index of the quality button to increment and allow a search on the indexing\n",
    "            quality_li_element = driver.find_element(By.XPATH, quality_li_xpath) # searches for the element on which we wish to interact (in this case the quality button)\n",
    "            quality_text = quality_li_element.find_element(By.XPATH, \"./label/span\").text # will scrape the text from the quality button using the XPATH\n",
    "            quality_li_element.click() # Click on the quality button\n",
    "            \n",
    "            # Allow time for the quality selection to update\n",
    "            time.sleep(1)  \n",
    "            product_availability = {}\n",
    "            \n",
    "            # Wait for the size items to be reloaded for the selected quality\n",
    "            sizes = WebDriverWait(driver, 10).until(EC.presence_of_all_elements_located((By.XPATH, f\"{base_xpath}/li\")))\n",
    "            \n",
    "            for index in range(1, len(sizes) + 1):\n",
    "                li_xpath = f\"{base_xpath}/li[{index}]\" # fetches the index of the size button to increment and allow searching on indexing\n",
    "                li_element = driver.find_element(By.XPATH, li_xpath) # searches for the element on which you wish to interact (in this case the size button)\n",
    "                \n",
    "                if 'instock' in li_element.get_attribute('class'): # select size only if 'instock' is in XPATH\n",
    "                    size_text = li_element.find_element(By.XPATH, \"./label/span\").text # will scrape the text from the size button using the XPATH\n",
    "                    li_element.click() # Click on the size button\n",
    "\n",
    "                    # Wait for the page to react to size selection\n",
    "                    time.sleep(1) \n",
    "                    count = 0 # initialization of the clique counter (which will be taken into consideration to calculate the stock)\n",
    "                    \n",
    "                    while True:\n",
    "                        availability_message = driver.find_element(By.XPATH, availability_xpath).text # will scrape the 'available' text via the XPATH\n",
    "                        \n",
    "                        if \"Disponible\" in availability_message: # if available message appears, continue to click\n",
    "                            driver.find_element(By.XPATH, button_xpath).click() # click the button to increase the amount of skiing\n",
    "                            count += 1 #increments the counter\n",
    "                            time.sleep(1)  # Wait for the page to react to the click\n",
    "                        else:\n",
    "                            break \n",
    "\n",
    "                    product_availability[size_text] = count\n",
    "                    time.sleep(1)  # Pause before moving to the next size\n",
    "            \n",
    "            all_products_availability[quality_text] = product_availability\n",
    "\n",
    "    except Exception as e:\n",
    "        print(f\"Une erreur s'est produite : {e}\")\n",
    "\n",
    "    finally:\n",
    "        driver.quit()\n",
    "    return {url: all_products_availability}"
   ]
  },
  {
   "cell_type": "markdown",
   "metadata": {},
   "source": [
    "### Scraping urls from all pages"
   ]
  },
  {
   "cell_type": "code",
   "execution_count": null,
   "metadata": {},
   "outputs": [],
   "source": [
    "base_url = 'https://freeglisse.com/fr/12-ski-occasion'  \n",
    "product_link = scrape_product_links(base_url)\n",
    "product_link"
   ]
  },
  {
   "cell_type": "markdown",
   "metadata": {},
   "source": [
    "### Stock scraping according to quality and size of all pages on the site"
   ]
  },
  {
   "cell_type": "code",
   "execution_count": null,
   "metadata": {},
   "outputs": [],
   "source": [
    "quality_xpath = '/html/body/main/section/div/div/div/section/div[1]/div[2]/div[3]/div[2]/form/div[1]/div[1]/ul'\n",
    "sizes_xpath = '/html/body/main/section/div/div/div/section/div[1]/div[2]/div[3]/div[2]/form/div[1]/div[2]/ul'\n",
    "button_xpath = '//*[@id=\"add-to-cart-or-refresh\"]/div[2]/div[1]/div[1]/div/span[3]/button[1]/i'\n",
    "availability_xpath = '/html/body/main/section/div/div/div/section/div[1]/div[2]/div[3]/div[2]/form/div[2]/span/span'\n",
    "stock_total = []\n",
    "\n",
    "for link in tqdm(product_link, desc='products', unit='link'):\n",
    "    stock = products(link, quality_xpath, sizes_xpath, button_xpath, availability_xpath)\n",
    "    stock_total.append(stock)\n",
    "\n",
    "stock_total"
   ]
  },
  {
   "cell_type": "markdown",
   "metadata": {},
   "source": [
    "### Creation of the CSV with the results of the inventory"
   ]
  },
  {
   "cell_type": "code",
   "execution_count": null,
   "metadata": {},
   "outputs": [],
   "source": [
    "import csv\n",
    "\n",
    "csv_file = 'stocks.csv'\n",
    "\n",
    "# Open CSV file in write mode\n",
    "with open(csv_file, 'w', newline='') as file:\n",
    "    writer = csv.writer(file)\n",
    "\n",
    "    # Write headers\n",
    "    writer.writerow(['URL', 'Qualité', 'Taille', 'Quantité'])\n",
    "\n",
    "    # Browse data\n",
    "    for item in results:\n",
    "        for url, quality_info in item.items():\n",
    "            url_column = url\n",
    "\n",
    "            # Browse quality information\n",
    "            for quality, size_info in quality_info.items():\n",
    "                quality_column = quality\n",
    "\n",
    "                # Browse size and quantity information\n",
    "                for size, quantity in size_info.items():\n",
    "                    # Write a line to the CSV file\n",
    "                    writer.writerow([url_column, quality_column, size, quantity])\n",
    "\n",
    "print(f\"Datas have been written in {csv_file}\")\n"
   ]
  },
  {
   "cell_type": "markdown",
   "metadata": {},
   "source": [
    "### Dataframe Display"
   ]
  },
  {
   "cell_type": "code",
   "execution_count": 47,
   "metadata": {},
   "outputs": [
    {
     "data": {
      "text/html": [
       "<div>\n",
       "<style scoped>\n",
       "    .dataframe tbody tr th:only-of-type {\n",
       "        vertical-align: middle;\n",
       "    }\n",
       "\n",
       "    .dataframe tbody tr th {\n",
       "        vertical-align: top;\n",
       "    }\n",
       "\n",
       "    .dataframe thead th {\n",
       "        text-align: right;\n",
       "    }\n",
       "</style>\n",
       "<table border=\"1\" class=\"dataframe\">\n",
       "  <thead>\n",
       "    <tr style=\"text-align: right;\">\n",
       "      <th></th>\n",
       "      <th>URL</th>\n",
       "      <th>Qualité</th>\n",
       "      <th>Taille</th>\n",
       "      <th>Quantité</th>\n",
       "    </tr>\n",
       "  </thead>\n",
       "  <tbody>\n",
       "    <tr>\n",
       "      <th>0</th>\n",
       "      <td>https://freeglisse.com/fr/ski-occasion-adulte-...</td>\n",
       "      <td>Qualité A</td>\n",
       "      <td>156 cm</td>\n",
       "      <td>16</td>\n",
       "    </tr>\n",
       "    <tr>\n",
       "      <th>1</th>\n",
       "      <td>https://freeglisse.com/fr/ski-occasion-adulte-...</td>\n",
       "      <td>Qualité A</td>\n",
       "      <td>164 cm</td>\n",
       "      <td>14</td>\n",
       "    </tr>\n",
       "    <tr>\n",
       "      <th>2</th>\n",
       "      <td>https://freeglisse.com/fr/ski-occasion-adulte-...</td>\n",
       "      <td>Qualité A</td>\n",
       "      <td>172 cm</td>\n",
       "      <td>9</td>\n",
       "    </tr>\n",
       "    <tr>\n",
       "      <th>3</th>\n",
       "      <td>https://freeglisse.com/fr/ski-de-fond-occasion...</td>\n",
       "      <td>Qualité C</td>\n",
       "      <td>150 cm</td>\n",
       "      <td>11</td>\n",
       "    </tr>\n",
       "    <tr>\n",
       "      <th>4</th>\n",
       "      <td>https://freeglisse.com/fr/ski-de-fond-occasion...</td>\n",
       "      <td>Qualité C</td>\n",
       "      <td>160 cm</td>\n",
       "      <td>12</td>\n",
       "    </tr>\n",
       "    <tr>\n",
       "      <th>...</th>\n",
       "      <td>...</td>\n",
       "      <td>...</td>\n",
       "      <td>...</td>\n",
       "      <td>...</td>\n",
       "    </tr>\n",
       "    <tr>\n",
       "      <th>219</th>\n",
       "      <td>https://freeglisse.com/fr/ski-occasion-junior-...</td>\n",
       "      <td>Qualité A</td>\n",
       "      <td>120 cm</td>\n",
       "      <td>3</td>\n",
       "    </tr>\n",
       "    <tr>\n",
       "      <th>220</th>\n",
       "      <td>https://freeglisse.com/fr/ski-occasion-junior-...</td>\n",
       "      <td>Qualité A</td>\n",
       "      <td>110 cm</td>\n",
       "      <td>3</td>\n",
       "    </tr>\n",
       "    <tr>\n",
       "      <th>221</th>\n",
       "      <td>https://freeglisse.com/fr/ski-occasion-junior-...</td>\n",
       "      <td>Qualité B</td>\n",
       "      <td>130 cm</td>\n",
       "      <td>3</td>\n",
       "    </tr>\n",
       "    <tr>\n",
       "      <th>222</th>\n",
       "      <td>https://freeglisse.com/fr/ski-de-rando-occasio...</td>\n",
       "      <td>Qualité B</td>\n",
       "      <td>178 cm</td>\n",
       "      <td>3</td>\n",
       "    </tr>\n",
       "    <tr>\n",
       "      <th>223</th>\n",
       "      <td>https://freeglisse.com/fr/ski-de-fond-occasion...</td>\n",
       "      <td>Qualité A</td>\n",
       "      <td>135 cm</td>\n",
       "      <td>3</td>\n",
       "    </tr>\n",
       "  </tbody>\n",
       "</table>\n",
       "<p>224 rows × 4 columns</p>\n",
       "</div>"
      ],
      "text/plain": [
       "                                                   URL    Qualité  Taille  \\\n",
       "0    https://freeglisse.com/fr/ski-occasion-adulte-...  Qualité A  156 cm   \n",
       "1    https://freeglisse.com/fr/ski-occasion-adulte-...  Qualité A  164 cm   \n",
       "2    https://freeglisse.com/fr/ski-occasion-adulte-...  Qualité A  172 cm   \n",
       "3    https://freeglisse.com/fr/ski-de-fond-occasion...  Qualité C  150 cm   \n",
       "4    https://freeglisse.com/fr/ski-de-fond-occasion...  Qualité C  160 cm   \n",
       "..                                                 ...        ...     ...   \n",
       "219  https://freeglisse.com/fr/ski-occasion-junior-...  Qualité A  120 cm   \n",
       "220  https://freeglisse.com/fr/ski-occasion-junior-...  Qualité A  110 cm   \n",
       "221  https://freeglisse.com/fr/ski-occasion-junior-...  Qualité B  130 cm   \n",
       "222  https://freeglisse.com/fr/ski-de-rando-occasio...  Qualité B  178 cm   \n",
       "223  https://freeglisse.com/fr/ski-de-fond-occasion...  Qualité A  135 cm   \n",
       "\n",
       "     Quantité  \n",
       "0          16  \n",
       "1          14  \n",
       "2           9  \n",
       "3          11  \n",
       "4          12  \n",
       "..        ...  \n",
       "219         3  \n",
       "220         3  \n",
       "221         3  \n",
       "222         3  \n",
       "223         3  \n",
       "\n",
       "[224 rows x 4 columns]"
      ]
     },
     "execution_count": 47,
     "metadata": {},
     "output_type": "execute_result"
    }
   ],
   "source": [
    "df= pd.read_csv('stocks.csv')\n",
    "df"
   ]
  }
 ],
 "metadata": {
  "kernelspec": {
   "display_name": "databird",
   "language": "python",
   "name": "python3"
  },
  "language_info": {
   "codemirror_mode": {
    "name": "ipython",
    "version": 3
   },
   "file_extension": ".py",
   "mimetype": "text/x-python",
   "name": "python",
   "nbconvert_exporter": "python",
   "pygments_lexer": "ipython3",
   "version": "3.11.5"
  }
 },
 "nbformat": 4,
 "nbformat_minor": 2
}
